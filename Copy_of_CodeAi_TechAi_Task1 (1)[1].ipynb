{
  "cells": [
    {
      "cell_type": "markdown",
      "metadata": {
        "id": "XnP1PxmLWjlC"
      },
      "source": [
        "# ***FOR DOING THE TASK MAKE THE COPY OF THIS COLLAB FILE IN YOUR DRIVE***"
      ]
    },
    {
      "cell_type": "markdown",
      "metadata": {
        "id": "RBNeAaOLxbe5"
      },
      "source": [
        "### 1. Python Basics & Control Structures\n",
        "\n",
        "*Task*:\n",
        "\n",
        "* Write a Python program that:\n",
        "\n",
        "  * Takes a list of strings (e.g., [\"apple\", \"banana\", \"grape\", \"kiwi\", \"orange\"]).\n",
        "  * Filters out fruits with more than 5 characters using a for loop and if statement.\n",
        "  * For each fruit, print its length.\n",
        "\n",
        "*Example Input*:\n",
        "\n",
        "python\n",
        "fruits = [\"apple\", \"banana\", \"grape\", \"kiwi\", \"orange\"]"
      ]
    },
    {
      "cell_type": "code",
      "execution_count": 2,
      "metadata": {
        "colab": {
          "base_uri": "https://localhost:8080/"
        },
        "collapsed": true,
        "id": "NcI_p7F0vFhz",
        "outputId": "8cb6ea16-e011-4b29-fbbe-ba808a65fd56"
      },
      "outputs": [
        {
          "name": "stdout",
          "output_type": "stream",
          "text": [
            "The fruit apple has 5 characters.\n",
            "The fruit banana has 6 characters.\n",
            "The fruit orange has 6 characters.\n"
          ]
        }
      ],
      "source": [
        "fruits = [\"apple\", \"banana\", \"orange\"]\n",
        "for f in fruits:\n",
        "  if(len(f) >= 5):\n",
        "    print(f\"The fruit {f} has {len(f)} characters.\")"
      ]
    },
    {
      "cell_type": "markdown",
      "metadata": {
        "id": "sQeiBzi9xjIl"
      },
      "source": [
        "\n",
        "*Expected Output*:\n",
        "\n",
        "\n",
        "The fruit apple has 5 characters.\n",
        "\n",
        "The fruit banana has 6 characters.\n",
        "\n",
        "The fruit orange has 6 characters.\n"
      ]
    },
    {
      "cell_type": "markdown",
      "metadata": {
        "id": "k12WGkNoyAgY"
      },
      "source": [
        "### 2. Functions & Lambda\n",
        "\n",
        "*Task*:\n",
        "\n",
        "* Write a function that takes a list of integers and a threshold value. Use a **lambda* function inside filter() to return a list of numbers greater than the threshold.\n",
        "\n",
        "\n",
        "  # Test the function with a list [1, 5, 10, 3, 8] and threshold 5\n",
        "\n",
        "\n",
        "\n",
        "\n"
      ]
    },
    {
      "cell_type": "code",
      "execution_count": 3,
      "metadata": {
        "colab": {
          "base_uri": "https://localhost:8080/"
        },
        "id": "xSLokk2iy1OQ",
        "outputId": "76fc1d94-dd0c-4432-98f5-f427280b7c22"
      },
      "outputs": [
        {
          "name": "stdout",
          "output_type": "stream",
          "text": [
            "[10, 8]\n"
          ]
        }
      ],
      "source": [
        "def filterer(l, thresh):\n",
        "  filter_list = list(filter(lambda x: x > thresh, l))\n",
        "  return filter_list\n",
        "print(filterer([1,5,10,3,8], 5))"
      ]
    },
    {
      "cell_type": "markdown",
      "metadata": {
        "id": "qFz4IBidxuK8"
      },
      "source": [
        "### 3. Object-Oriented Programming (OOP)\n",
        "\n",
        "*Task*:\n",
        "\n",
        "* Implement a BankAccount class with methods for depositing, withdrawing, transferring, and checking balance.\n",
        "* Implement *Polymorphism* by overriding the __str__ method to provide a custom string representation of the account.\n",
        "\n",
        "\n",
        "# Example\n",
        "account_a = BankAccount(\"A123\", \"Alice\", 1000)\n",
        "\n",
        "account_b = BankAccount(\"B456\", \"Bob\", 500)\n",
        "\n",
        "account_a.deposit(200)\n",
        "\n",
        "account_a.transfer(300, account_b)\n"
      ]
    },
    {
      "cell_type": "code",
      "execution_count": null,
      "metadata": {
        "colab": {
          "base_uri": "https://localhost:8080/"
        },
        "id": "nkl25hP8zWJQ",
        "outputId": "78268e86-e846-48dc-b385-ff2b6204c504"
      },
      "outputs": [
        {
          "name": "stdout",
          "output_type": "stream",
          "text": [
            "Deposited 200 to Alice's account.\n",
            "Withdrew 300 from Alice's account.\n",
            "Deposited 300 to Bob's account.\n",
            "Transferred 300 to Bob's account.\n",
            "Balance for Alice: 900\n",
            "Balance for Bob: 800\n"
          ]
        }
      ],
      "source": [
        "class BankAccount:\n",
        "  def __init__(self, acc, name, amt):\n",
        "    self.acc=acc\n",
        "    self.name=name\n",
        "    self.balance = amt\n",
        "  def deposit(self,amt):\n",
        "    self.balance += amt\n",
        "    print(f\"Deposited {amt} to {self.name}'s account.\")\n",
        "  def withdraw(self,amt):\n",
        "    if self.balance > amt:\n",
        "      self.balance -= amt\n",
        "      print(f\"Withdrew {amt} from {self.name}'s account.\")\n",
        "    else:\n",
        "      print(\"Insufficient balance\")\n",
        "  def transfer(self, amt, other_acc):\n",
        "    if(self.balance >= amt):\n",
        "      self.withdraw(amt)\n",
        "      other_acc.deposit(amt)\n",
        "      print(f\"Transferred {amt} to {other_acc.name}'s account.\")\n",
        "    else:\n",
        "      print(\"Transfer failed due to insufficient funds or invalid amount.\")\n",
        "  def check_balance(self):\n",
        "    return f\"Balance for {self.name}: {self.balance}\"\n",
        "  def __str__(self):\n",
        "    return self.check_balance()\n",
        "\n",
        "account_a = BankAccount(\"A123\", \"Alice\", 1000)\n",
        "account_b = BankAccount(\"B456\", \"Bob\", 500)\n",
        "account_a.deposit(200)\n",
        "account_a.transfer(300, account_b)\n",
        "\n",
        "print(account_a)\n",
        "print(account_b)\n"
      ]
    },
    {
      "cell_type": "markdown",
      "metadata": {
        "id": "R9op0Bt0xttt"
      },
      "source": [
        "### 4. Exception Handling\n",
        "\n",
        "*Task*:\n",
        "\n",
        "* Write a divide_numbers(a, b) function with exception handling:\n",
        "\n",
        "  * Handle division by zero and invalid input (non-numeric values).\n",
        "\n",
        "\n",
        "# Test the function\n",
        "print(divide_numbers(10, 2))   # Valid input\n",
        "\n",
        "print(divide_numbers(10, 0))   # Division by zero\n",
        "\n",
        "print(divide_numbers(\"ten\", 2))  # Invalid input"
      ]
    },
    {
      "cell_type": "code",
      "execution_count": 5,
      "metadata": {
        "colab": {
          "base_uri": "https://localhost:8080/"
        },
        "id": "DEZfXk4V0A8_",
        "outputId": "14d9d324-9a28-41be-f394-da2721874f43"
      },
      "outputs": [
        {
          "name": "stdout",
          "output_type": "stream",
          "text": [
            "5.0\n",
            "Cannot divide by zero\n",
            "Invalid input, please enter numbers\n"
          ]
        }
      ],
      "source": [
        "def divide_numbers(a, b):\n",
        "    try:\n",
        "        return a / b\n",
        "    except ZeroDivisionError:\n",
        "        return \"Cannot divide by zero\"\n",
        "    except Exception:\n",
        "        return \"Invalid input, please enter numbers\"\n",
        "print(divide_numbers(10, 2)) # Valid input\n",
        "print(divide_numbers(10, 0)) # Division by zero\n",
        "print(divide_numbers(\"ten\", 2)) # Invalid input"
      ]
    },
    {
      "cell_type": "markdown",
      "metadata": {
        "id": "UAfaux4e0LsB"
      },
      "source": [
        "*Example Expected Output*:\n",
        "\n",
        "\n",
        "5.0\n",
        "\n",
        "Cannot divide by zero\n",
        "\n",
        "Invalid input, please enter numbers"
      ]
    },
    {
      "cell_type": "markdown",
      "metadata": {
        "id": "_zo-t7xZ0ayU"
      },
      "source": [
        "### 5. Python Modules & File Handling\n",
        "\n",
        "*Task*:\n",
        "\n",
        "* Write a Python program to:\n",
        "\n",
        "  * Create a text file \"students.txt\" with student names and marks.\n",
        "  * Read the file and print names of students with marks above 80.\n",
        "\n",
        "\n",
        "\n",
        "\n"
      ]
    },
    {
      "cell_type": "code",
      "execution_count": 6,
      "metadata": {
        "colab": {
          "base_uri": "https://localhost:8080/"
        },
        "id": "kp3PLXuv0_cU",
        "outputId": "5d85ddd3-f0e0-455c-d117-6f496f239974"
      },
      "outputs": [
        {
          "name": "stdout",
          "output_type": "stream",
          "text": [
            "Alice\n",
            "Bob\n",
            "David\n"
          ]
        }
      ],
      "source": [
        "students = {\n",
        "    \"Alice\": 85,\n",
        "    \"Bob\": 90,\n",
        "    \"Raze\": 75,\n",
        "    \"David\": 95,\n",
        "    \"Sage\": 60\n",
        "}\n",
        "with open(\"students.txt\", \"w\") as f:\n",
        "  for name, marks in students.items():\n",
        "    f.write(f\"{name},{marks}\\n\")\n",
        "with open(\"students.txt\", \"r\") as f:\n",
        "  for l in f:\n",
        "    name, marks = l.split(',')\n",
        "    marks = int(marks)\n",
        "    if marks > 80:\n",
        "      print(name)"
      ]
    },
    {
      "cell_type": "markdown",
      "metadata": {
        "id": "BGTgVTJZ0_7b"
      },
      "source": [
        "\n",
        "*Expected Output*:\n",
        "\n",
        "\n",
        "Alice\n",
        "\n",
        "Bob\n",
        "\n",
        "David\n"
      ]
    },
    {
      "cell_type": "markdown",
      "metadata": {
        "id": "buuDAsX_2ZEg"
      },
      "source": [
        "### 6. Regular Expressions\n",
        "\n",
        "*Task*:\n",
        "\n",
        "* Write a Python function extract_phone_numbers(text) that extracts all phone numbers from a given text. The phone numbers should be in the format (xxx) xxx-xxxx.\n",
        "\n",
        "\n",
        "sample_text = (\n",
        "    \"For any support regarding our Bangalore office, call us at +91-9876543210 between 9 AM to 6 PM. \"\n",
        "    \"If you are located in Mumbai, you can also reach our helpdesk at 9123456789 for urgent assistance. \"\n",
        "    \"Additionally, our Delhi branch can be contacted at +91-9988776655 during weekdays.\"\n",
        ")\n",
        "\n",
        "\n",
        "\n",
        "\n",
        "*Expected Output*:\n",
        "\n",
        "\n",
        "['+91-9876543210', '+91-9988776655']\n"
      ]
    },
    {
      "cell_type": "code",
      "execution_count": 7,
      "metadata": {
        "colab": {
          "base_uri": "https://localhost:8080/"
        },
        "id": "Nx0oXsT92Ytu",
        "outputId": "1153019b-3aa8-4bcb-83f7-79bc20a947b7"
      },
      "outputs": [
        {
          "name": "stdout",
          "output_type": "stream",
          "text": [
            "['+91-9876543210', '+91-9988776655']\n"
          ]
        }
      ],
      "source": [
        "import re\n",
        "def extract_phone_numbers(text):\n",
        "  return re.findall(\"\\+91-\\d{10}\", text)\n",
        "sample_text = ( \"For any support regarding our Bangalore office, call us at +91-9876543210 between 9 AM to 6 PM. \" \"If you are located in Mumbai, you can also reach our helpdesk at 9123456789 for urgent assistance. \" \"Additionally, our Delhi branch can be contacted at +91-9988776655 during weekdays.\" )\n",
        "print(extract_phone_numbers(sample_text))"
      ]
    },
    {
      "cell_type": "markdown",
      "metadata": {
        "id": "6uPEN50JQ4IP"
      },
      "source": [
        "\n",
        "*Expected Output*:\n",
        "\n",
        "\n",
        "['+91-9876543210', '+91-9988776655']"
      ]
    }
  ],
  "metadata": {
    "colab": {
      "provenance": []
    },
    "kernelspec": {
      "display_name": "base",
      "language": "python",
      "name": "python3"
    },
    "language_info": {
      "codemirror_mode": {
        "name": "ipython",
        "version": 3
      },
      "file_extension": ".py",
      "mimetype": "text/x-python",
      "name": "python",
      "nbconvert_exporter": "python",
      "pygments_lexer": "ipython3",
      "version": "3.13.5"
    }
  },
  "nbformat": 4,
  "nbformat_minor": 0
}
